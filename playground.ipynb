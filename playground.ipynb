{
 "cells": [
  {
   "cell_type": "code",
   "execution_count": 12,
   "metadata": {
    "collapsed": true,
    "ExecuteTime": {
     "end_time": "2023-06-21T07:31:02.963565700Z",
     "start_time": "2023-06-21T07:31:01.345458300Z"
    }
   },
   "outputs": [
    {
     "name": "stdout",
     "output_type": "stream",
     "text": [
      "#padded tensor([[1, 2, 3, 0],\n",
      "        [0, 1, 0, 0],\n",
      "        [0, 5, 6, 8]])\n",
      "#packed PackedSequence(data=tensor([0, 1, 0, 5, 2, 1, 6, 3, 8]), batch_sizes=tensor([3, 3, 2, 1]), sorted_indices=tensor([2, 0, 1]), unsorted_indices=tensor([1, 2, 0]))\n",
      "output tensor([[1, 2, 3, 0],\n",
      "        [0, 1, 0, 0],\n",
      "        [0, 5, 6, 8]]) \n",
      " lengths tensor([3, 2, 4])\n"
     ]
    }
   ],
   "source": [
    "import torch\n",
    "from torch.nn.utils.rnn import pad_sequence, pack_padded_sequence, pad_packed_sequence\n",
    "\n",
    "a = torch.tensor([1, 2, 3])\n",
    "b = torch.tensor([0, 1])\n",
    "c = torch.tensor([0, 5, 6, 8])\n",
    "\n",
    "padded = pad_sequence([a, b, c], batch_first=True, padding_value=0.0)\n",
    "print('#padded', padded)\n",
    "\n",
    "lengths = torch.tensor([len(t) for t in [a, b, c]])\n",
    "packed = pack_padded_sequence(padded, lengths.to('cpu'), batch_first=True, enforce_sorted=False)\n",
    "print('#packed', packed)\n",
    "\n",
    "output, lengths = pad_packed_sequence(packed, batch_first=True)\n",
    "print('output', output, '\\n lengths', lengths )"
   ]
  },
  {
   "cell_type": "code",
   "execution_count": 13,
   "outputs": [
    {
     "data": {
      "text/plain": "tensor([3, 2, 4])"
     },
     "execution_count": 13,
     "metadata": {},
     "output_type": "execute_result"
    }
   ],
   "source": [
    "lengths"
   ],
   "metadata": {
    "collapsed": false,
    "ExecuteTime": {
     "end_time": "2023-06-21T07:31:17.582507400Z",
     "start_time": "2023-06-21T07:31:17.574963100Z"
    }
   }
  },
  {
   "cell_type": "code",
   "execution_count": 9,
   "outputs": [],
   "source": [
    "train_set = [torch.randn(10, 3) for _ in range(1)] + [torch.randn(10, 5) for _ in range(1)]"
   ],
   "metadata": {
    "collapsed": false,
    "ExecuteTime": {
     "end_time": "2023-06-21T07:09:15.052223800Z",
     "start_time": "2023-06-21T07:09:15.047219100Z"
    }
   }
  },
  {
   "cell_type": "code",
   "execution_count": 10,
   "outputs": [
    {
     "data": {
      "text/plain": "[tensor([[-1.0199,  0.2782, -0.5519],\n         [ 0.8309,  1.0027, -2.3036],\n         [-0.1483,  0.8110,  0.8094],\n         [ 0.3916,  2.3605, -0.7509],\n         [ 0.9048,  1.8001, -0.5401],\n         [ 0.4653,  0.8708,  1.3535],\n         [ 1.2462,  0.7640, -0.7313],\n         [-0.5062,  0.2096, -0.3815],\n         [-0.4171,  1.8626, -0.2926],\n         [ 0.2256, -0.6439,  0.5620]]),\n tensor([[ 2.2370,  0.6760, -0.3966, -2.4628, -0.9451],\n         [ 0.2356,  0.3270, -1.7060, -1.1893,  0.4668],\n         [ 0.4996, -2.4468,  0.3797,  0.8026, -0.0083],\n         [-1.0156, -1.1921, -0.8380, -0.7151,  0.4216],\n         [ 0.3793, -0.2629,  0.8582,  0.3286, -0.5104],\n         [-0.0962, -0.2119,  0.8029,  1.4440,  0.2920],\n         [ 0.9148, -0.3243,  0.8821,  0.1769, -0.9953],\n         [-0.7254,  1.3254,  1.3137, -0.7743, -1.9961],\n         [-1.5653,  1.3213, -0.9698, -0.1032,  1.1605],\n         [-0.6714,  0.2191, -0.0275,  0.7661, -0.3393]])]"
     },
     "execution_count": 10,
     "metadata": {},
     "output_type": "execute_result"
    }
   ],
   "source": [
    "train_set"
   ],
   "metadata": {
    "collapsed": false,
    "ExecuteTime": {
     "end_time": "2023-06-21T07:09:15.794361600Z",
     "start_time": "2023-06-21T07:09:15.788038900Z"
    }
   }
  },
  {
   "cell_type": "code",
   "execution_count": 11,
   "outputs": [
    {
     "ename": "TypeError",
     "evalue": "pack_padded_sequence() missing 1 required positional argument: 'lengths'",
     "output_type": "error",
     "traceback": [
      "\u001B[1;31m---------------------------------------------------------------------------\u001B[0m",
      "\u001B[1;31mTypeError\u001B[0m                                 Traceback (most recent call last)",
      "Cell \u001B[1;32mIn[11], line 1\u001B[0m\n\u001B[1;32m----> 1\u001B[0m \u001B[43mpack_padded_sequence\u001B[49m\u001B[43m(\u001B[49m\u001B[43mtrain_set\u001B[49m\u001B[43m,\u001B[49m\u001B[43m \u001B[49m\u001B[43mbatch_first\u001B[49m\u001B[38;5;241;43m=\u001B[39;49m\u001B[38;5;28;43;01mTrue\u001B[39;49;00m\u001B[43m)\u001B[49m\n",
      "\u001B[1;31mTypeError\u001B[0m: pack_padded_sequence() missing 1 required positional argument: 'lengths'"
     ]
    }
   ],
   "source": [
    "pack_padded_sequence(train_set, batch_first=True)"
   ],
   "metadata": {
    "collapsed": false,
    "ExecuteTime": {
     "end_time": "2023-06-21T07:09:17.685789900Z",
     "start_time": "2023-06-21T07:09:17.619538Z"
    }
   }
  },
  {
   "cell_type": "code",
   "execution_count": null,
   "outputs": [],
   "source": [],
   "metadata": {
    "collapsed": false
   }
  }
 ],
 "metadata": {
  "kernelspec": {
   "display_name": "Python 3",
   "language": "python",
   "name": "python3"
  },
  "language_info": {
   "codemirror_mode": {
    "name": "ipython",
    "version": 2
   },
   "file_extension": ".py",
   "mimetype": "text/x-python",
   "name": "python",
   "nbconvert_exporter": "python",
   "pygments_lexer": "ipython2",
   "version": "2.7.6"
  }
 },
 "nbformat": 4,
 "nbformat_minor": 0
}
