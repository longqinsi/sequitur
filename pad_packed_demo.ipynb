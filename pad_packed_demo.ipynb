{
 "cells": [
  {
   "cell_type": "code",
   "execution_count": 32,
   "metadata": {
    "collapsed": true,
    "ExecuteTime": {
     "end_time": "2023-06-22T02:43:31.078976500Z",
     "start_time": "2023-06-22T02:43:31.046685400Z"
    }
   },
   "outputs": [],
   "source": [
    "import torch\n",
    "from torch import LongTensor\n",
    "from torch.nn import Embedding, LSTM\n",
    "from torch.autograd import Variable\n",
    "from torch.nn.utils.rnn import pack_padded_sequence, pad_packed_sequence, PackedSequence"
   ]
  },
  {
   "cell_type": "markdown",
   "source": [
    "## We want to run LSTM on a batch of 3 character sequences ['long_str', 'tiny', 'medium']\n",
    "\n",
    "*  Step 1: Construct Vocabulary\n",
    "*  Step 2: Load indexed data (list of instances, where each instance is list of character indices)\n",
    "*  Step 3: Make Model\n",
    "*  Step 4: Pad instances with 0s till max length sequence\n",
    "*  Step 5: Sort instances by sequence length in descending order\n",
    "*  Step 6: Embed the instances\n",
    "*  Step 7: Call pack_padded_sequence with embeded instances and sequence lengths\n",
    "*  Step 8: Forward with LSTM\n",
    "*  Step 9: Call unpack_padded_sequences if required / or just pick last hidden vector\n",
    "*  Summary of Shape Transformations"
   ],
   "metadata": {
    "collapsed": false
   }
  },
  {
   "cell_type": "code",
   "execution_count": 2,
   "outputs": [],
   "source": [
    "# We want to run LSTM on a batch following 3 character sequences\n",
    "seqs = ['long_str',  # len = 8\n",
    "        'tiny',      # len = 4\n",
    "        'medium']    # len = 6"
   ],
   "metadata": {
    "collapsed": false,
    "ExecuteTime": {
     "end_time": "2023-06-22T01:46:56.737475200Z",
     "start_time": "2023-06-22T01:46:56.675873100Z"
    }
   }
  },
  {
   "cell_type": "markdown",
   "source": [
    "### Step 1: Construct Vocabulary"
   ],
   "metadata": {
    "collapsed": false
   }
  },
  {
   "cell_type": "code",
   "execution_count": 5,
   "outputs": [
    {
     "data": {
      "text/plain": "['<pad>', '_', 'd', 'e', 'g', 'i', 'l', 'm', 'n', 'o', 'r', 's', 't', 'u', 'y']"
     },
     "execution_count": 5,
     "metadata": {},
     "output_type": "execute_result"
    }
   ],
   "source": [
    "# make sure <pad> idx is 0\n",
    "vocab = ['<pad>'] + sorted(set([char for seq in seqs for char in seq]))\n",
    "vocab"
   ],
   "metadata": {
    "collapsed": false,
    "ExecuteTime": {
     "end_time": "2023-06-22T01:48:01.522877500Z",
     "start_time": "2023-06-22T01:48:01.505632900Z"
    }
   }
  },
  {
   "cell_type": "markdown",
   "source": [
    "### Step 2: Load indexed data (list of instances, where each instance is list of character indices)"
   ],
   "metadata": {
    "collapsed": false
   }
  },
  {
   "cell_type": "code",
   "execution_count": 8,
   "outputs": [
    {
     "data": {
      "text/plain": "[[6, 9, 8, 4, 1, 11, 12, 10], [12, 5, 8, 14], [7, 3, 2, 5, 13, 7]]"
     },
     "execution_count": 8,
     "metadata": {},
     "output_type": "execute_result"
    }
   ],
   "source": [
    "vectorized_seqs = [[vocab.index(tok) for tok in seq] for seq in seqs]\n",
    "vectorized_seqs"
   ],
   "metadata": {
    "collapsed": false,
    "ExecuteTime": {
     "end_time": "2023-06-22T01:48:41.361712400Z",
     "start_time": "2023-06-22T01:48:41.338856400Z"
    }
   }
  },
  {
   "cell_type": "markdown",
   "source": [
    "### Step 3: Make Model"
   ],
   "metadata": {
    "collapsed": false
   }
  },
  {
   "cell_type": "code",
   "execution_count": 10,
   "outputs": [],
   "source": [
    "embed = Embedding(len(vocab), 4) # embedding_dim = 4\n",
    "lstm = LSTM(input_size=4, hidden_size=5, batch_first=True) # input_dim = 4, hidden_dim = 5"
   ],
   "metadata": {
    "collapsed": false,
    "ExecuteTime": {
     "end_time": "2023-06-22T01:49:43.243557500Z",
     "start_time": "2023-06-22T01:49:43.235237900Z"
    }
   }
  },
  {
   "cell_type": "code",
   "execution_count": 19,
   "outputs": [
    {
     "data": {
      "text/plain": "Embedding(15, 4)"
     },
     "execution_count": 19,
     "metadata": {},
     "output_type": "execute_result"
    }
   ],
   "source": [
    "embed"
   ],
   "metadata": {
    "collapsed": false,
    "ExecuteTime": {
     "end_time": "2023-06-22T02:03:02.302273900Z",
     "start_time": "2023-06-22T02:03:02.297798700Z"
    }
   }
  },
  {
   "cell_type": "markdown",
   "source": [
    "### Step 4: Pad instances with 0s till max length sequence"
   ],
   "metadata": {
    "collapsed": false
   }
  },
  {
   "cell_type": "code",
   "execution_count": 11,
   "outputs": [
    {
     "data": {
      "text/plain": "tensor([8, 4, 6])"
     },
     "execution_count": 11,
     "metadata": {},
     "output_type": "execute_result"
    }
   ],
   "source": [
    "# get the length of each seq in your batch\n",
    "seq_lengths = LongTensor(list(map(len, vectorized_seqs)))\n",
    "seq_lengths\n",
    "# batch_sum_seq_len: 8 + 4 + 6 = 18\n",
    "# max_seq_len: 8"
   ],
   "metadata": {
    "collapsed": false,
    "ExecuteTime": {
     "end_time": "2023-06-22T01:50:32.367502200Z",
     "start_time": "2023-06-22T01:50:32.350112200Z"
    }
   }
  },
  {
   "cell_type": "code",
   "execution_count": 12,
   "outputs": [
    {
     "data": {
      "text/plain": "tensor([[0, 0, 0, 0, 0, 0, 0, 0],\n        [0, 0, 0, 0, 0, 0, 0, 0],\n        [0, 0, 0, 0, 0, 0, 0, 0]])"
     },
     "execution_count": 12,
     "metadata": {},
     "output_type": "execute_result"
    }
   ],
   "source": [
    "seq_tensor = Variable(torch.zeros((len(vectorized_seqs), seq_lengths.max()))).long()\n",
    "seq_tensor"
   ],
   "metadata": {
    "collapsed": false,
    "ExecuteTime": {
     "end_time": "2023-06-22T01:50:53.872764800Z",
     "start_time": "2023-06-22T01:50:53.826108400Z"
    }
   }
  },
  {
   "cell_type": "code",
   "execution_count": 13,
   "outputs": [
    {
     "data": {
      "text/plain": "tensor([[ 6,  9,  8,  4,  1, 11, 12, 10],\n        [12,  5,  8, 14,  0,  0,  0,  0],\n        [ 7,  3,  2,  5, 13,  7,  0,  0]])"
     },
     "execution_count": 13,
     "metadata": {},
     "output_type": "execute_result"
    }
   ],
   "source": [
    "for idx, (seq, seqlen) in enumerate(zip(vectorized_seqs, seq_lengths)):\n",
    "    seq_tensor[idx, :seqlen] = LongTensor(seq)\n",
    "seq_tensor\n",
    "# seq_tensor => [[ 6  9  8  4  1 11 12 10]          # long_str\n",
    "#                [12  5  8 14  0  0  0  0]          # tiny\n",
    "#                [ 7  3  2  5 13  7  0  0]]         # medium\n",
    "# seq_tensor.shape : (batch_size X max_seq_len) = (3 X 8)"
   ],
   "metadata": {
    "collapsed": false,
    "ExecuteTime": {
     "end_time": "2023-06-22T01:52:02.546180500Z",
     "start_time": "2023-06-22T01:52:02.526529200Z"
    }
   }
  },
  {
   "cell_type": "markdown",
   "source": [
    "### Step 5: Sort instances by sequence length in descending order"
   ],
   "metadata": {
    "collapsed": false
   }
  },
  {
   "cell_type": "code",
   "execution_count": 25,
   "outputs": [
    {
     "data": {
      "text/plain": "tensor([8, 6, 4])"
     },
     "execution_count": 25,
     "metadata": {},
     "output_type": "execute_result"
    }
   ],
   "source": [
    "seq_lengths"
   ],
   "metadata": {
    "collapsed": false,
    "ExecuteTime": {
     "end_time": "2023-06-22T02:21:21.031698300Z",
     "start_time": "2023-06-22T02:21:20.984569200Z"
    }
   }
  },
  {
   "cell_type": "markdown",
   "source": [
    "### Step 6: Embed the instances"
   ],
   "metadata": {
    "collapsed": false
   }
  },
  {
   "cell_type": "code",
   "execution_count": 15,
   "outputs": [],
   "source": [
    "embedded_seq_tensor = embed(seq_tensor)\n",
    "# embedded_seq_tensor =>\n",
    "#                       [[[-0.77578706 -1.8080667  -1.1168439   1.1059115 ]     l\n",
    "#                         [-0.23622951  2.0361056   0.15435742 -0.04513785]     o\n",
    "#                         [-0.6000342   1.1732816   0.19938554 -1.5976517 ]     n\n",
    "#                         [ 0.40524676  0.98665565 -0.08621677 -1.1728264 ]     g\n",
    "#                         [-1.6334635  -0.6100042   1.7509955  -1.931793  ]     _\n",
    "#                         [-0.6470658  -0.6266589  -1.7463604   1.2675372 ]     s\n",
    "#                         [ 0.64004815  0.45813003  0.3476034  -0.03451729]     t\n",
    "#                         [-0.22739866 -0.45782727 -0.6643252   0.25129375]]    r\n",
    "\n",
    "#                        [[ 0.16031227 -0.08209462 -0.16297023  0.48121014]     m\n",
    "#                         [-0.7303265  -0.857339    0.58913064 -1.1068314 ]     e\n",
    "#                         [ 0.48159844 -1.4886451   0.92639893  0.76906884]     d\n",
    "#                         [ 0.27616557 -1.224429   -1.342848   -0.7495876 ]     i\n",
    "#                         [ 0.01795524 -0.59048957 -0.53800726 -0.6611691 ]     u\n",
    "#                         [ 0.16031227 -0.08209462 -0.16297023  0.48121014]     m\n",
    "#                         [ 0.2691206  -0.43435425  0.87935454 -2.2269666 ]     <pad>\n",
    "#                         [ 0.2691206  -0.43435425  0.87935454 -2.2269666 ]]    <pad>\n",
    "\n",
    "#                        [[ 0.64004815  0.45813003  0.3476034  -0.03451729]     t\n",
    "#                         [ 0.27616557 -1.224429   -1.342848   -0.7495876 ]     i\n",
    "#                         [-0.6000342   1.1732816   0.19938554 -1.5976517 ]     n\n",
    "#                         [-1.284392    0.68294704  1.4064184  -0.42879772]     y\n",
    "#                         [ 0.2691206  -0.43435425  0.87935454 -2.2269666 ]     <pad>\n",
    "#                         [ 0.2691206  -0.43435425  0.87935454 -2.2269666 ]     <pad>\n",
    "#                         [ 0.2691206  -0.43435425  0.87935454 -2.2269666 ]     <pad>\n",
    "#                         [ 0.2691206  -0.43435425  0.87935454 -2.2269666 ]]]   <pad>\n",
    "# embedded_seq_tensor.shape : (batch_size X max_seq_len X embedding_dim) = (3 X 8 X 4)"
   ],
   "metadata": {
    "collapsed": false,
    "ExecuteTime": {
     "end_time": "2023-06-22T01:53:41.667831200Z",
     "start_time": "2023-06-22T01:53:41.645825700Z"
    }
   }
  },
  {
   "cell_type": "code",
   "execution_count": 20,
   "outputs": [
    {
     "data": {
      "text/plain": "tensor([[ 6,  9,  8,  4,  1, 11, 12, 10],\n        [ 7,  3,  2,  5, 13,  7,  0,  0],\n        [12,  5,  8, 14,  0,  0,  0,  0]])"
     },
     "execution_count": 20,
     "metadata": {},
     "output_type": "execute_result"
    }
   ],
   "source": [
    "seq_lengths, perm_idx = seq_lengths.sort(0, descending=True)\n",
    "seq_tensor = seq_tensor[perm_idx]\n",
    "seq_tensor\n",
    "# seq_tensor => [[ 6  9  8  4  1 11 12 10]           # long_str\n",
    "#                [ 7  3  2  5 13  7  0  0]           # medium\n",
    "#                [12  5  8 14  0  0  0  0]]          # tiny\n",
    "# seq_tensor.shape : (batch_size X max_seq_len) = (3 X 8)"
   ],
   "metadata": {
    "collapsed": false,
    "ExecuteTime": {
     "end_time": "2023-06-22T02:18:14.376185600Z",
     "start_time": "2023-06-22T02:18:14.345516900Z"
    }
   }
  },
  {
   "cell_type": "markdown",
   "source": [
    "### Step 7: Call pack_padded_sequence with embeded instances and sequence lengths"
   ],
   "metadata": {
    "collapsed": false
   }
  },
  {
   "cell_type": "code",
   "execution_count": 33,
   "outputs": [],
   "source": [
    "packed_input: PackedSequence = pack_padded_sequence(embedded_seq_tensor, seq_lengths.cpu().numpy(), batch_first=True)\n",
    "# packed_input (PackedSequence is NamedTuple with 2 attributes: data and batch_sizes\n",
    "#\n",
    "# packed_input.data =>\n",
    "#                         [[-0.77578706 -1.8080667  -1.1168439   1.1059115 ]     l\n",
    "#                          [ 0.01795524 -0.59048957 -0.53800726 -0.6611691 ]     m\n",
    "#                          [-0.6470658  -0.6266589  -1.7463604   1.2675372 ]     t\n",
    "#                          [ 0.16031227 -0.08209462 -0.16297023  0.48121014]     o\n",
    "#                          [ 0.40524676  0.98665565 -0.08621677 -1.1728264 ]     e\n",
    "#                          [-1.284392    0.68294704  1.4064184  -0.42879772]     i\n",
    "#                          [ 0.64004815  0.45813003  0.3476034  -0.03451729]     n\n",
    "#                          [ 0.27616557 -1.224429   -1.342848   -0.7495876 ]     d\n",
    "#                          [ 0.64004815  0.45813003  0.3476034  -0.03451729]     n\n",
    "#                          [-0.23622951  2.0361056   0.15435742 -0.04513785]     g\n",
    "#                          [ 0.16031227 -0.08209462 -0.16297023  0.48121014]     i\n",
    "#                          [-0.22739866 -0.45782727 -0.6643252   0.25129375]]    y\n",
    "#                          [-0.7303265  -0.857339    0.58913064 -1.1068314 ]     _\n",
    "#                          [-1.6334635  -0.6100042   1.7509955  -1.931793  ]     u\n",
    "#                          [ 0.27616557 -1.224429   -1.342848   -0.7495876 ]     s\n",
    "#                          [-0.6000342   1.1732816   0.19938554 -1.5976517 ]     m\n",
    "#                          [-0.6000342   1.1732816   0.19938554 -1.5976517 ]     t\n",
    "#                          [ 0.48159844 -1.4886451   0.92639893  0.76906884]     r\n",
    "# packed_input.data.shape : (batch_sum_seq_len X embedding_dim) = (18 X 4)\n",
    "#\n",
    "# packed_input.batch_sizes => [ 3,  3,  3,  3,  2,  2,  1,  1]\n",
    "# visualization :\n",
    "# l  o  n  g  _  s  t  r   #(long_str)\n",
    "# m  e  d  i  u  m         #(medium)\n",
    "# t  i  n  y               #(tiny)\n",
    "# 3  3  3  3  2  2  1  1   (sum = 18 [batch_sum_seq_len])"
   ],
   "metadata": {
    "collapsed": false,
    "ExecuteTime": {
     "end_time": "2023-06-22T02:43:38.082935Z",
     "start_time": "2023-06-22T02:43:38.077927600Z"
    }
   }
  },
  {
   "cell_type": "code",
   "execution_count": 41,
   "outputs": [
    {
     "data": {
      "text/plain": "(tensor([3, 3, 3, 3, 2, 2, 1, 1]), torch.Size([3, 8, 4]), tensor([8, 6, 4]))"
     },
     "execution_count": 41,
     "metadata": {},
     "output_type": "execute_result"
    }
   ],
   "source": [
    "packed_input.batch_sizes, embedded_seq_tensor.shape, seq_lengths"
   ],
   "metadata": {
    "collapsed": false,
    "ExecuteTime": {
     "end_time": "2023-06-22T02:46:46.759613200Z",
     "start_time": "2023-06-22T02:46:46.752218900Z"
    }
   }
  },
  {
   "cell_type": "code",
   "execution_count": 30,
   "outputs": [
    {
     "data": {
      "text/plain": "torch.Size([3, 8, 4])"
     },
     "execution_count": 30,
     "metadata": {},
     "output_type": "execute_result"
    }
   ],
   "source": [
    "embedded_seq_tensor.shape"
   ],
   "metadata": {
    "collapsed": false,
    "ExecuteTime": {
     "end_time": "2023-06-22T02:35:41.250854900Z",
     "start_time": "2023-06-22T02:35:41.239199500Z"
    }
   }
  },
  {
   "cell_type": "code",
   "execution_count": 27,
   "outputs": [
    {
     "ename": "TypeError",
     "evalue": "index expected at least 1 argument, got 0",
     "output_type": "error",
     "traceback": [
      "\u001B[1;31m---------------------------------------------------------------------------\u001B[0m",
      "\u001B[1;31mTypeError\u001B[0m                                 Traceback (most recent call last)",
      "Cell \u001B[1;32mIn[27], line 1\u001B[0m\n\u001B[1;32m----> 1\u001B[0m \u001B[43mpacked_input\u001B[49m\u001B[38;5;241;43m.\u001B[39;49m\u001B[43mindex\u001B[49m\u001B[43m(\u001B[49m\u001B[43m)\u001B[49m\n",
      "\u001B[1;31mTypeError\u001B[0m: index expected at least 1 argument, got 0"
     ]
    }
   ],
   "source": [
    "packed_input.index()"
   ],
   "metadata": {
    "collapsed": false,
    "ExecuteTime": {
     "end_time": "2023-06-22T02:33:11.949949600Z",
     "start_time": "2023-06-22T02:33:11.899819Z"
    }
   }
  },
  {
   "cell_type": "markdown",
   "source": [
    "### Step 8: Forward with LSTM"
   ],
   "metadata": {
    "collapsed": false
   }
  },
  {
   "cell_type": "code",
   "execution_count": 17,
   "outputs": [],
   "source": [
    "packed_output, (ht, ct) = lstm(packed_input)\n",
    "# packed_output (PackedSequence is NamedTuple with 2 attributes: data and batch_sizes\n",
    "#\n",
    "# packed_output.data :\n",
    "#                          [[-0.00947162  0.07743231  0.20343193  0.29611713  0.07992904]   l\n",
    "#                           [ 0.08596145  0.09205993  0.20892891  0.21788561  0.00624391]   o\n",
    "#                           [ 0.16861682  0.07807446  0.18812777 -0.01148055 -0.01091915]   n\n",
    "#                           [ 0.20994528  0.17932937  0.17748171  0.05025435  0.15717036]   g\n",
    "#                           [ 0.01364102  0.11060348  0.14704391  0.24145307  0.12879576]   _\n",
    "#                           [ 0.02610307  0.00965587  0.31438383  0.246354    0.08276576]   s\n",
    "#                           [ 0.09527554  0.14521319  0.1923058  -0.05925677  0.18633027]   t\n",
    "#                           [ 0.09872741  0.13324396  0.19446367  0.4307988  -0.05149471]   r\n",
    "#                           [ 0.03895474  0.08449443  0.18839942  0.02205326  0.23149511]   m\n",
    "#                           [ 0.14620507  0.07822411  0.2849248  -0.22616537  0.15480657]   e\n",
    "#                           [ 0.00884941  0.05762182  0.30557525  0.373712    0.08834908]   d\n",
    "#                           [ 0.12460691  0.21189159  0.04823487  0.06384943  0.28563985]   i\n",
    "#                           [ 0.01368293  0.15872964  0.03759198 -0.13403234  0.23890573]   u\n",
    "#                           [ 0.00377969  0.05943518  0.2961751   0.35107893  0.15148178]   m\n",
    "#                           [ 0.00737647  0.17101538  0.28344846  0.18878219  0.20339936]   t\n",
    "#                           [ 0.0864429   0.11173367  0.3158251   0.37537992  0.11876849]   i\n",
    "#                           [ 0.17885767  0.12713005  0.28287745  0.05562563  0.10871304]   n\n",
    "#                           [ 0.09486895  0.12772645  0.34048414  0.25930756  0.12044918]]  y\n",
    "# packed_output.data.shape : (batch_sum_seq_len X hidden_dim) = (18 X 5)\n",
    "\n",
    "# packed_output.batch_sizes => [ 3,  3,  3,  3,  2,  2,  1,  1] (same as packed_input.batch_sizes)\n",
    "# visualization :\n",
    "# l  o  n  g  _  s  t  r   #(long_str)\n",
    "# m  e  d  i  u  m         #(medium)\n",
    "# t  i  n  y               #(tiny)\n",
    "# 3  3  3  3  2  2  1  1   (sum = 18 [batch_sum_seq_len])"
   ],
   "metadata": {
    "collapsed": false,
    "ExecuteTime": {
     "end_time": "2023-06-22T01:54:51.287094200Z",
     "start_time": "2023-06-22T01:54:51.272546800Z"
    }
   }
  },
  {
   "cell_type": "markdown",
   "source": [
    "### Step 9: Call unpack_padded_sequences if required / or just pick last hidden vector"
   ],
   "metadata": {
    "collapsed": false
   }
  },
  {
   "cell_type": "code",
   "execution_count": 18,
   "outputs": [
    {
     "name": "stdout",
     "output_type": "stream",
     "text": [
      "tensor([[ 0.0593,  0.3217, -0.1032, -0.0473, -0.1789],\n",
      "        [ 0.0877,  0.0479, -0.1117, -0.0347, -0.1983],\n",
      "        [ 0.1409,  0.0927, -0.0810,  0.0167, -0.1114]],\n",
      "       grad_fn=<SelectBackward0>)\n"
     ]
    }
   ],
   "source": [
    "# unpack your output if required\n",
    "output, input_sizes = pad_packed_sequence(packed_output, batch_first=True)\n",
    "# output:\n",
    "# output =>\n",
    "#                          [[[-0.00947162  0.07743231  0.20343193  0.29611713  0.07992904]   l\n",
    "#                            [ 0.20994528  0.17932937  0.17748171  0.05025435  0.15717036]   o\n",
    "#                            [ 0.09527554  0.14521319  0.1923058  -0.05925677  0.18633027]   n\n",
    "#                            [ 0.14620507  0.07822411  0.2849248  -0.22616537  0.15480657]   g\n",
    "#                            [ 0.01368293  0.15872964  0.03759198 -0.13403234  0.23890573]   _\n",
    "#                            [ 0.00737647  0.17101538  0.28344846  0.18878219  0.20339936]   s\n",
    "#                            [ 0.17885767  0.12713005  0.28287745  0.05562563  0.10871304]   t\n",
    "#                            [ 0.09486895  0.12772645  0.34048414  0.25930756  0.12044918]]  r\n",
    "\n",
    "#                           [[ 0.08596145  0.09205993  0.20892891  0.21788561  0.00624391]   m\n",
    "#                            [ 0.01364102  0.11060348  0.14704391  0.24145307  0.12879576]   e\n",
    "#                            [ 0.09872741  0.13324396  0.19446367  0.4307988  -0.05149471]   d\n",
    "#                            [ 0.00884941  0.05762182  0.30557525  0.373712    0.08834908]   i\n",
    "#                            [ 0.00377969  0.05943518  0.2961751   0.35107893  0.15148178]   u\n",
    "#                            [ 0.0864429   0.11173367  0.3158251   0.37537992  0.11876849]   m\n",
    "#                            [ 0.          0.          0.          0.          0.        ]   <pad>\n",
    "#                            [ 0.          0.          0.          0.          0.        ]]  <pad>\n",
    "\n",
    "#                           [[ 0.16861682  0.07807446  0.18812777 -0.01148055 -0.01091915]   t\n",
    "#                            [ 0.02610307  0.00965587  0.31438383  0.246354    0.08276576]   i\n",
    "#                            [ 0.03895474  0.08449443  0.18839942  0.02205326  0.23149511]   n\n",
    "#                            [ 0.12460691  0.21189159  0.04823487  0.06384943  0.28563985]   y\n",
    "#                            [ 0.          0.          0.          0.          0.        ]   <pad>\n",
    "#                            [ 0.          0.          0.          0.          0.        ]   <pad>\n",
    "#                            [ 0.          0.          0.          0.          0.        ]   <pad>\n",
    "#                            [ 0.          0.          0.          0.          0.        ]]] <pad>\n",
    "# output.shape : ( batch_size X max_seq_len X hidden_dim) = (3 X 8 X 5)\n",
    "\n",
    "# Or if you just want the final hidden state?\n",
    "print(ht[-1])\n",
    "\n",
    "## Summary of Shape Transformations ##\n",
    "##----------------------------------##\n",
    "\n",
    "# (batch_size X max_seq_len X embedding_dim) --> Sort by seqlen ---> (batch_size X max_seq_len X embedding_dim)\n",
    "# (batch_size X max_seq_len X embedding_dim) --->      Pack     ---> (batch_sum_seq_len X embedding_dim)\n",
    "# (batch_sum_seq_len X embedding_dim)        --->      LSTM     ---> (batch_sum_seq_len X hidden_dim)\n",
    "# (batch_sum_seq_len X hidden_dim)           --->    UnPack     ---> (batch_size X max_seq_len X hidden_dim)"
   ],
   "metadata": {
    "collapsed": false,
    "ExecuteTime": {
     "end_time": "2023-06-22T01:55:26.655302500Z",
     "start_time": "2023-06-22T01:55:26.626089900Z"
    }
   }
  },
  {
   "cell_type": "code",
   "execution_count": null,
   "outputs": [],
   "source": [],
   "metadata": {
    "collapsed": false
   }
  }
 ],
 "metadata": {
  "kernelspec": {
   "display_name": "Python 3",
   "language": "python",
   "name": "python3"
  },
  "language_info": {
   "codemirror_mode": {
    "name": "ipython",
    "version": 2
   },
   "file_extension": ".py",
   "mimetype": "text/x-python",
   "name": "python",
   "nbconvert_exporter": "python",
   "pygments_lexer": "ipython2",
   "version": "2.7.6"
  }
 },
 "nbformat": 4,
 "nbformat_minor": 0
}
